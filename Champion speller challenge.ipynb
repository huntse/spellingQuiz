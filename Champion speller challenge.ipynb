{
 "metadata": {
  "name": "",
  "signature": "sha256:27888067c0c2258ba03ff28d140214b92c339753705e2d81fbb2c87277b357a1"
 },
 "nbformat": 3,
 "nbformat_minor": 0,
 "worksheets": [
  {
   "cells": [
    {
     "cell_type": "markdown",
     "metadata": {},
     "source": [
      "# Champion speller challenge!\n",
      "\n",
      "Can you answer the spelling questions and become a champion speller?  \n",
      "Click on the line below and hit shift + enter to find out!\n"
     ]
    },
    {
     "cell_type": "code",
     "collapsed": true,
     "input": [
      "from SpellingQuiz import SpellingQuiz\n",
      "quiz = SpellingQuiz()\n",
      "quiz.runTest()"
     ],
     "language": "python",
     "metadata": {},
     "outputs": []
    }
   ],
   "metadata": {}
  }
 ]
}