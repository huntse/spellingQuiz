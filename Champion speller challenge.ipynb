{
 "metadata": {
  "name": "",
  "signature": "sha256:d973a2b24c04fcc9eb979dd9540c3befe6a8348ffb8499ca941c94dea588c833"
 },
 "nbformat": 3,
 "nbformat_minor": 0,
 "worksheets": [
  {
   "cells": [
    {
     "cell_type": "markdown",
     "metadata": {},
     "source": [
      "# Champion speller challenge!\n",
      "\n",
      "Can you answer the spelling questions and become a champion speller?  \n",
      "Click on the line below and hit shift + enter to find out!\n"
     ]
    },
    {
     "cell_type": "code",
     "collapsed": true,
     "input": [],
     "language": "python",
     "metadata": {},
     "outputs": []
    },
    {
     "cell_type": "code",
     "collapsed": false,
     "input": [
      "import SpellingQuiz\n",
      "SpellingQuiz.runTest()\n",
      "\n",
      "\n",
      "\n",
      "\n",
      "\n",
      "\n",
      "\n"
     ],
     "language": "python",
     "metadata": {},
     "outputs": [
      {
       "output_type": "stream",
       "stream": "stdout",
       "text": [
        "\n",
        "        Hey there Iris!  Welcome to spelling quiz.  \n",
        "        \n",
        "        I can ask you about: \n",
        "        Silent w\n",
        "\t\thomophones\n",
        "\t\twh\n",
        "\t\tDouble Consonant\n",
        "\t\thigh frequency\n",
        "\t\t-ly.\n",
        "        \n",
        "        Would you like to:\n",
        "            a)Practise words from a category you pick\n",
        "            b)Practise words from a category I pick\n",
        "            c)Practise words which I pick from the whole list\n",
        "            d)go for champion speller\n",
        "            \n",
        "    \n"
       ]
      },
      {
       "name": "stdout",
       "output_type": "stream",
       "stream": "stdout",
       "text": [
        "Type a, b, c, or d, or press enter to quit:a\n"
       ]
      },
      {
       "output_type": "stream",
       "stream": "stdout",
       "text": [
        "\n",
        "\n",
        "\n",
        "\n",
        "Type a number to pick a category\n",
        "\t1 for Silent w\n",
        "\t2 for homophones\n",
        "\t3 for wh\n",
        "\t4 for Double Consonant\n",
        "\t5 for high frequency\n",
        "\t6 for -ly\n"
       ]
      },
      {
       "name": "stdout",
       "output_type": "stream",
       "stream": "stdout",
       "text": [
        "Type 1 to 6 or enter to go back:1\n"
       ]
      },
      {
       "output_type": "stream",
       "stream": "stdout",
       "text": [
        "OK.  You picked 'Silent w'.\n",
        "OK Iris, type the words after you hear them.  Just press 'enter' to hear the word again.\n"
       ]
      },
      {
       "name": "stdout",
       "output_type": "stream",
       "stream": "stdout",
       "text": [
        "1 of 20: Type the word you just heard, or press 'enter' to hear it again.  =>\n"
       ]
      },
      {
       "name": "stdout",
       "output_type": "stream",
       "stream": "stdout",
       "text": [
        "1 of 20: Type the word you just heard, or press 'enter' to hear it again.  =>wrath\n"
       ]
      },
      {
       "name": "stdout",
       "output_type": "stream",
       "stream": "stdout",
       "text": [
        "2 of 20: Type the word you just heard, or press 'enter' to hear it again.  =>wrong\n"
       ]
      },
      {
       "name": "stdout",
       "output_type": "stream",
       "stream": "stdout",
       "text": [
        "3 of 20: Type the word you just heard, or press 'enter' to hear it again.  =>awry\n"
       ]
      },
      {
       "name": "stdout",
       "output_type": "stream",
       "stream": "stdout",
       "text": [
        "4 of 20: Type the word you just heard, or press 'enter' to hear it again.  =>wrapper\n"
       ]
      },
      {
       "name": "stdout",
       "output_type": "stream",
       "stream": "stdout",
       "text": [
        "5 of 20: Type the word you just heard, or press 'enter' to hear it again.  =>sword\n"
       ]
      },
      {
       "name": "stdout",
       "output_type": "stream",
       "stream": "stdout",
       "text": [
        "6 of 20: Type the word you just heard, or press 'enter' to hear it again.  =>wriggle\n"
       ]
      },
      {
       "name": "stdout",
       "output_type": "stream",
       "stream": "stdout",
       "text": [
        "7 of 20: Type the word you just heard, or press 'enter' to hear it again.  =>wreched\n"
       ]
      },
      {
       "name": "stdout",
       "output_type": "stream",
       "stream": "stdout",
       "text": [
        "8 of 20: Type the word you just heard, or press 'enter' to hear it again.  =>whole\n"
       ]
      },
      {
       "name": "stdout",
       "output_type": "stream",
       "stream": "stdout",
       "text": [
        "9 of 20: Type the word you just heard, or press 'enter' to hear it again.  =>\n"
       ]
      },
      {
       "name": "stdout",
       "output_type": "stream",
       "stream": "stdout",
       "text": [
        "9 of 20: Type the word you just heard, or press 'enter' to hear it again.  =>wroght\n"
       ]
      },
      {
       "name": "stdout",
       "output_type": "stream",
       "stream": "stdout",
       "text": [
        "10 of 20: Type the word you just heard, or press 'enter' to hear it again.  =>wreckage\n"
       ]
      },
      {
       "name": "stdout",
       "output_type": "stream",
       "stream": "stdout",
       "text": [
        "11 of 20: Type the word you just heard, or press 'enter' to hear it again.  =>writh\n"
       ]
      },
      {
       "name": "stdout",
       "output_type": "stream",
       "stream": "stdout",
       "text": [
        "12 of 20: Type the word you just heard, or press 'enter' to hear it again.  =>write\n"
       ]
      },
      {
       "name": "stdout",
       "output_type": "stream",
       "stream": "stdout",
       "text": [
        "13 of 20: Type the word you just heard, or press 'enter' to hear it again.  =>wrangle\n"
       ]
      },
      {
       "name": "stdout",
       "output_type": "stream",
       "stream": "stdout",
       "text": [
        "14 of 20: Type the word you just heard, or press 'enter' to hear it again.  =>wrestle\n"
       ]
      },
      {
       "name": "stdout",
       "output_type": "stream",
       "stream": "stdout",
       "text": [
        "15 of 20: Type the word you just heard, or press 'enter' to hear it again.  =>answer\n"
       ]
      },
      {
       "name": "stdout",
       "output_type": "stream",
       "stream": "stdout",
       "text": [
        "16 of 20: Type the word you just heard, or press 'enter' to hear it again.  =>wreath\n"
       ]
      },
      {
       "name": "stdout",
       "output_type": "stream",
       "stream": "stdout",
       "text": [
        "17 of 20: Type the word you just heard, or press 'enter' to hear it again.  =>winkle\n"
       ]
      },
      {
       "name": "stdout",
       "output_type": "stream",
       "stream": "stdout",
       "text": [
        "18 of 20: Type the word you just heard, or press 'enter' to hear it again.  =>wry\n"
       ]
      },
      {
       "name": "stdout",
       "output_type": "stream",
       "stream": "stdout",
       "text": [
        "19 of 20: Type the word you just heard, or press 'enter' to hear it again.  =>wren\n"
       ]
      },
      {
       "name": "stdout",
       "output_type": "stream",
       "stream": "stdout",
       "text": [
        "20 of 20: Type the word you just heard, or press 'enter' to hear it again.  =>wrist\n"
       ]
      },
      {
       "output_type": "stream",
       "stream": "stdout",
       "text": [
        "You got 16 out of 20, and these are the words you got wrong: ['wretched', 'wrought', 'writhe', 'wrinkle']\n",
        "\n",
        "        Hey there Iris!  Welcome to spelling quiz.  \n",
        "        \n",
        "        I can ask you about: \n",
        "        Silent w\n",
        "\t\thomophones\n",
        "\t\twh\n",
        "\t\tDouble Consonant\n",
        "\t\thigh frequency\n",
        "\t\t-ly.\n",
        "        \n",
        "        Would you like to:\n",
        "            a)Practise words from a category you pick\n",
        "            b)Practise words from a category I pick\n",
        "            c)Practise words which I pick from the whole list\n",
        "            d)go for champion speller\n",
        "            \n",
        "    \n"
       ]
      },
      {
       "name": "stdout",
       "output_type": "stream",
       "stream": "stdout",
       "text": [
        "Type a, b, c, or d, or press enter to quit:a\n"
       ]
      },
      {
       "output_type": "stream",
       "stream": "stdout",
       "text": [
        "\n",
        "\n",
        "\n",
        "\n",
        "Type a number to pick a category\n",
        "\t1 for Silent w\n",
        "\t2 for homophones\n",
        "\t3 for wh\n",
        "\t4 for Double Consonant\n",
        "\t5 for high frequency\n",
        "\t6 for -ly\n"
       ]
      },
      {
       "name": "stdout",
       "output_type": "stream",
       "stream": "stdout",
       "text": [
        "Type 1 to 6 or enter to go back:2\n"
       ]
      },
      {
       "output_type": "stream",
       "stream": "stdout",
       "text": [
        "OK.  You picked 'homophones'.\n",
        "OK Iris, type the words after you hear them.  Just press 'enter' to hear the word again.\n"
       ]
      },
      {
       "name": "stdout",
       "output_type": "stream",
       "stream": "stdout",
       "text": [
        "1 of 14: Type the word you just heard, or press 'enter' to hear it again.  =>\n"
       ]
      },
      {
       "name": "stdout",
       "output_type": "stream",
       "stream": "stdout",
       "text": [
        "1 of 14: Type the word you just heard, or press 'enter' to hear it again.  =>brack\n"
       ]
      },
      {
       "name": "stdout",
       "output_type": "stream",
       "stream": "stdout",
       "text": [
        "2 of 14: Type the word you just heard, or press 'enter' to hear it again.  =>\n"
       ]
      },
      {
       "name": "stdout",
       "output_type": "stream",
       "stream": "stdout",
       "text": [
        "2 of 14: Type the word you just heard, or press 'enter' to hear it again.  =>waste\n"
       ]
      },
      {
       "name": "stdout",
       "output_type": "stream",
       "stream": "stdout",
       "text": [
        "3 of 14: Type the word you just heard, or press 'enter' to hear it again.  =>write\n"
       ]
      },
      {
       "name": "stdout",
       "output_type": "stream",
       "stream": "stdout",
       "text": [
        "4 of 14: Type the word you just heard, or press 'enter' to hear it again.  =>ww\n"
       ]
      },
      {
       "name": "stdout",
       "output_type": "stream",
       "stream": "stdout",
       "text": [
        "5 of 14: Type the word you just heard, or press 'enter' to hear it again.  =>blue\n"
       ]
      },
      {
       "name": "stdout",
       "output_type": "stream",
       "stream": "stdout",
       "text": [
        "6 of 14: Type the word you just heard, or press 'enter' to hear it again.  =>\n"
       ]
      },
      {
       "name": "stdout",
       "output_type": "stream",
       "stream": "stdout",
       "text": [
        "6 of 14: Type the word you just heard, or press 'enter' to hear it again.  =>\n"
       ]
      },
      {
       "name": "stdout",
       "output_type": "stream",
       "stream": "stdout",
       "text": [
        "6 of 14: Type the word you just heard, or press 'enter' to hear it again.  =>rake\n"
       ]
      },
      {
       "name": "stdout",
       "output_type": "stream",
       "stream": "stdout",
       "text": [
        "7 of 14: Type the word you just heard, or press 'enter' to hear it again.  =>waste\n"
       ]
      },
      {
       "name": "stdout",
       "output_type": "stream",
       "stream": "stdout",
       "text": [
        "8 of 14: Type the word you just heard, or press 'enter' to hear it again.  =>hair\n"
       ]
      },
      {
       "name": "stdout",
       "output_type": "stream",
       "stream": "stdout",
       "text": [
        "9 of 14: Type the word you just heard, or press 'enter' to hear it again.  =>hare\n"
       ]
      },
      {
       "name": "stdout",
       "output_type": "stream",
       "stream": "stdout",
       "text": [
        "10 of 14: Type the word you just heard, or press 'enter' to hear it again.  =>\n"
       ]
      },
      {
       "name": "stdout",
       "output_type": "stream",
       "stream": "stdout",
       "text": [
        "10 of 14: Type the word you just heard, or press 'enter' to hear it again.  =>weigh\n"
       ]
      },
      {
       "name": "stdout",
       "output_type": "stream",
       "stream": "stdout",
       "text": [
        "11 of 14: Type the word you just heard, or press 'enter' to hear it again.  =>\n"
       ]
      },
      {
       "name": "stdout",
       "output_type": "stream",
       "stream": "stdout",
       "text": [
        "11 of 14: Type the word you just heard, or press 'enter' to hear it again.  =>night\n"
       ]
      },
      {
       "name": "stdout",
       "output_type": "stream",
       "stream": "stdout",
       "text": [
        "12 of 14: Type the word you just heard, or press 'enter' to hear it again.  =>knight\n"
       ]
      },
      {
       "name": "stdout",
       "output_type": "stream",
       "stream": "stdout",
       "text": [
        "13 of 14: Type the word you just heard, or press 'enter' to hear it again.  =>bloow\n"
       ]
      },
      {
       "name": "stdout",
       "output_type": "stream",
       "stream": "stdout",
       "text": [
        "14 of 14: Type the word you just heard, or press 'enter' to hear it again.  =>right\n"
       ]
      },
      {
       "output_type": "stream",
       "stream": "stdout",
       "text": [
        "You got 9 out of 14, and these are the words you got wrong: ['break', 'way', 'brake', 'waist', 'blew']\n",
        "\n",
        "        Hey there Iris!  Welcome to spelling quiz.  \n",
        "        \n",
        "        I can ask you about: \n",
        "        Silent w\n",
        "\t\thomophones\n",
        "\t\twh\n",
        "\t\tDouble Consonant\n",
        "\t\thigh frequency\n",
        "\t\t-ly.\n",
        "        \n",
        "        Would you like to:\n",
        "            a)Practise words from a category you pick\n",
        "            b)Practise words from a category I pick\n",
        "            c)Practise words which I pick from the whole list\n",
        "            d)go for champion speller\n",
        "            \n",
        "    \n"
       ]
      },
      {
       "name": "stdout",
       "output_type": "stream",
       "stream": "stdout",
       "text": [
        "Type a, b, c, or d, or press enter to quit:a\n"
       ]
      },
      {
       "output_type": "stream",
       "stream": "stdout",
       "text": [
        "\n",
        "\n",
        "\n",
        "\n",
        "Type a number to pick a category\n",
        "\t1 for Silent w\n",
        "\t2 for homophones\n",
        "\t3 for wh\n",
        "\t4 for Double Consonant\n",
        "\t5 for high frequency\n",
        "\t6 for -ly\n"
       ]
      },
      {
       "name": "stdout",
       "output_type": "stream",
       "stream": "stdout",
       "text": [
        "Type 1 to 6 or enter to go back:3\n"
       ]
      },
      {
       "output_type": "stream",
       "stream": "stdout",
       "text": [
        "OK.  You picked 'wh'.\n",
        "OK Iris, type the words after you hear them.  Just press 'enter' to hear the word again.\n"
       ]
      },
      {
       "name": "stdout",
       "output_type": "stream",
       "stream": "stdout",
       "text": [
        "1 of 21: Type the word you just heard, or press 'enter' to hear it again.  =>\n"
       ]
      },
      {
       "name": "stdout",
       "output_type": "stream",
       "stream": "stdout",
       "text": [
        "1 of 21: Type the word you just heard, or press 'enter' to hear it again.  =>elsewhere\n"
       ]
      },
      {
       "name": "stdout",
       "output_type": "stream",
       "stream": "stdout",
       "text": [
        "2 of 21: Type the word you just heard, or press 'enter' to hear it again.  =>wimsical\n"
       ]
      },
      {
       "name": "stdout",
       "output_type": "stream",
       "stream": "stdout",
       "text": [
        "3 of 21: Type the word you just heard, or press 'enter' to hear it again.  =>\n"
       ]
      },
      {
       "name": "stdout",
       "output_type": "stream",
       "stream": "stdout",
       "text": [
        "3 of 21: Type the word you just heard, or press 'enter' to hear it again.  =>whoever\n"
       ]
      },
      {
       "name": "stdout",
       "output_type": "stream",
       "stream": "stdout",
       "text": [
        "4 of 21: Type the word you just heard, or press 'enter' to hear it again.  =>\n"
       ]
      },
      {
       "name": "stdout",
       "output_type": "stream",
       "stream": "stdout",
       "text": [
        "4 of 21: Type the word you just heard, or press 'enter' to hear it again.  =>wirrling\n"
       ]
      },
      {
       "name": "stdout",
       "output_type": "stream",
       "stream": "stdout",
       "text": [
        "5 of 21: Type the word you just heard, or press 'enter' to hear it again.  =>anywhere\n"
       ]
      },
      {
       "name": "stdout",
       "output_type": "stream",
       "stream": "stdout",
       "text": [
        "6 of 21: Type the word you just heard, or press 'enter' to hear it again.  =>werred\n"
       ]
      },
      {
       "name": "stdout",
       "output_type": "stream",
       "stream": "stdout",
       "text": [
        "7 of 21: Type the word you just heard, or press 'enter' to hear it again.  =>everywhere\n"
       ]
      },
      {
       "name": "stdout",
       "output_type": "stream",
       "stream": "stdout",
       "text": [
        "8 of 21: Type the word you just heard, or press 'enter' to hear it again.  =>wetted\n"
       ]
      },
      {
       "name": "stdout",
       "output_type": "stream",
       "stream": "stdout",
       "text": [
        "9 of 21: Type the word you just heard, or press 'enter' to hear it again.  =>\n"
       ]
      },
      {
       "name": "stdout",
       "output_type": "stream",
       "stream": "stdout",
       "text": [
        "9 of 21: Type the word you just heard, or press 'enter' to hear it again.  =>wholehartedly\n"
       ]
      },
      {
       "name": "stdout",
       "output_type": "stream",
       "stream": "stdout",
       "text": [
        "10 of 21: Type the word you just heard, or press 'enter' to hear it again.  =>\n"
       ]
      },
      {
       "name": "stdout",
       "output_type": "stream",
       "stream": "stdout",
       "text": [
        "10 of 21: Type the word you just heard, or press 'enter' to hear it again.  =>\n"
       ]
      },
      {
       "name": "stdout",
       "output_type": "stream",
       "stream": "stdout",
       "text": [
        "10 of 21: Type the word you just heard, or press 'enter' to hear it again.  =>winnged\n"
       ]
      },
      {
       "name": "stdout",
       "output_type": "stream",
       "stream": "stdout",
       "text": [
        "11 of 21: Type the word you just heard, or press 'enter' to hear it again.  =>somewhere\n"
       ]
      },
      {
       "name": "stdout",
       "output_type": "stream",
       "stream": "stdout",
       "text": [
        "12 of 21: Type the word you just heard, or press 'enter' to hear it again.  =>werthwhile\n"
       ]
      },
      {
       "name": "stdout",
       "output_type": "stream",
       "stream": "stdout",
       "text": [
        "13 of 21: Type the word you just heard, or press 'enter' to hear it again.  =>\n"
       ]
      },
      {
       "name": "stdout",
       "output_type": "stream",
       "stream": "stdout",
       "text": [
        "13 of 21: Type the word you just heard, or press 'enter' to hear it again.  =>wherever\n"
       ]
      },
      {
       "name": "stdout",
       "output_type": "stream",
       "stream": "stdout",
       "text": [
        "14 of 21: Type the word you just heard, or press 'enter' to hear it again.  =>overwhelming\n"
       ]
      },
      {
       "name": "stdout",
       "output_type": "stream",
       "stream": "stdout",
       "text": [
        "15 of 21: Type the word you just heard, or press 'enter' to hear it again.  =>meanwhile\n"
       ]
      },
      {
       "name": "stdout",
       "output_type": "stream",
       "stream": "stdout",
       "text": [
        "16 of 21: Type the word you just heard, or press 'enter' to hear it again.  =>whisper\n"
       ]
      },
      {
       "name": "stdout",
       "output_type": "stream",
       "stream": "stdout",
       "text": [
        "17 of 21: Type the word you just heard, or press 'enter' to hear it again.  =>wether\n"
       ]
      },
      {
       "name": "stdout",
       "output_type": "stream",
       "stream": "stdout",
       "text": [
        "18 of 21: Type the word you just heard, or press 'enter' to hear it again.  =>\n"
       ]
      },
      {
       "name": "stdout",
       "output_type": "stream",
       "stream": "stdout",
       "text": [
        "18 of 21: Type the word you just heard, or press 'enter' to hear it again.  =>\n"
       ]
      },
      {
       "name": "stdout",
       "output_type": "stream",
       "stream": "stdout",
       "text": [
        "18 of 21: Type the word you just heard, or press 'enter' to hear it again.  =>whoose\n"
       ]
      },
      {
       "name": "stdout",
       "output_type": "stream",
       "stream": "stdout",
       "text": [
        "19 of 21: Type the word you just heard, or press 'enter' to hear it again.  =>whinny\n"
       ]
      },
      {
       "name": "stdout",
       "output_type": "stream",
       "stream": "stdout",
       "text": [
        "20 of 21: Type the word you just heard, or press 'enter' to hear it again.  =>wheezing\n"
       ]
      },
      {
       "name": "stdout",
       "output_type": "stream",
       "stream": "stdout",
       "text": [
        "21 of 21: Type the word you just heard, or press 'enter' to hear it again.  =>which\n"
       ]
      },
      {
       "output_type": "stream",
       "stream": "stdout",
       "text": [
        "You got 12 out of 21, and these are the words you got wrong: ['whimsical', 'whirling', 'whirred', 'whetted', 'wholeheartedly', 'whinged', 'worthwhile', 'whether', 'whose']\n",
        "\n",
        "        Hey there Iris!  Welcome to spelling quiz.  \n",
        "        \n",
        "        I can ask you about: \n",
        "        Silent w\n",
        "\t\thomophones\n",
        "\t\twh\n",
        "\t\tDouble Consonant\n",
        "\t\thigh frequency\n",
        "\t\t-ly.\n",
        "        \n",
        "        Would you like to:\n",
        "            a)Practise words from a category you pick\n",
        "            b)Practise words from a category I pick\n",
        "            c)Practise words which I pick from the whole list\n",
        "            d)go for champion speller\n",
        "            \n",
        "    \n"
       ]
      },
      {
       "name": "stdout",
       "output_type": "stream",
       "stream": "stdout",
       "text": [
        "Type a, b, c, or d, or press enter to quit:a\n"
       ]
      },
      {
       "output_type": "stream",
       "stream": "stdout",
       "text": [
        "\n",
        "\n",
        "\n",
        "\n",
        "Type a number to pick a category\n",
        "\t1 for Silent w\n",
        "\t2 for homophones\n",
        "\t3 for wh\n",
        "\t4 for Double Consonant\n",
        "\t5 for high frequency\n",
        "\t6 for -ly\n"
       ]
      },
      {
       "name": "stdout",
       "output_type": "stream",
       "stream": "stdout",
       "text": [
        "Type 1 to 6 or enter to go back:4\n"
       ]
      },
      {
       "output_type": "stream",
       "stream": "stdout",
       "text": [
        "OK.  You picked 'Double Consonant'.\n",
        "OK Iris, type the words after you hear them.  Just press 'enter' to hear the word again.\n"
       ]
      },
      {
       "name": "stdout",
       "output_type": "stream",
       "stream": "stdout",
       "text": [
        "1 of 19: Type the word you just heard, or press 'enter' to hear it again.  =>exaggurate\n"
       ]
      },
      {
       "name": "stdout",
       "output_type": "stream",
       "stream": "stdout",
       "text": [
        "2 of 19: Type the word you just heard, or press 'enter' to hear it again.  =>reccomend\n"
       ]
      },
      {
       "name": "stdout",
       "output_type": "stream",
       "stream": "stdout",
       "text": [
        "3 of 19: Type the word you just heard, or press 'enter' to hear it again.  =>acomidate\n"
       ]
      },
      {
       "name": "stdout",
       "output_type": "stream",
       "stream": "stdout",
       "text": [
        "4 of 19: Type the word you just heard, or press 'enter' to hear it again.  =>aggresive\n"
       ]
      },
      {
       "name": "stdout",
       "output_type": "stream",
       "stream": "stdout",
       "text": [
        "5 of 19: Type the word you just heard, or press 'enter' to hear it again.  =>communicate\n"
       ]
      },
      {
       "name": "stdout",
       "output_type": "stream",
       "stream": "stdout",
       "text": [
        "6 of 19: Type the word you just heard, or press 'enter' to hear it again.  =>sufficint\n"
       ]
      },
      {
       "name": "stdout",
       "output_type": "stream",
       "stream": "stdout",
       "text": [
        "7 of 19: Type the word you just heard, or press 'enter' to hear it again.  =>committee\n"
       ]
      },
      {
       "name": "stdout",
       "output_type": "stream",
       "stream": "stdout",
       "text": [
        "8 of 19: Type the word you just heard, or press 'enter' to hear it again.  =>oppitunity\n"
       ]
      },
      {
       "name": "stdout",
       "output_type": "stream",
       "stream": "stdout",
       "text": [
        "9 of 19: Type the word you just heard, or press 'enter' to hear it again.  =>swallow\n"
       ]
      },
      {
       "name": "stdout",
       "output_type": "stream",
       "stream": "stdout",
       "text": [
        "10 of 19: Type the word you just heard, or press 'enter' to hear it again.  =>kettle\n"
       ]
      },
      {
       "name": "stdout",
       "output_type": "stream",
       "stream": "stdout",
       "text": [
        "11 of 19: Type the word you just heard, or press 'enter' to hear it again.  =>attached\n"
       ]
      },
      {
       "name": "stdout",
       "output_type": "stream",
       "stream": "stdout",
       "text": [
        "12 of 19: Type the word you just heard, or press 'enter' to hear it again.  =>embarrass\n"
       ]
      },
      {
       "name": "stdout",
       "output_type": "stream",
       "stream": "stdout",
       "text": [
        "13 of 19: Type the word you just heard, or press 'enter' to hear it again.  =>correspond\n"
       ]
      },
      {
       "name": "stdout",
       "output_type": "stream",
       "stream": "stdout",
       "text": [
        "14 of 19: Type the word you just heard, or press 'enter' to hear it again.  =>suggest\n"
       ]
      },
      {
       "name": "stdout",
       "output_type": "stream",
       "stream": "stdout",
       "text": [
        "15 of 19: Type the word you just heard, or press 'enter' to hear it again.  =>accompany\n"
       ]
      },
      {
       "name": "stdout",
       "output_type": "stream",
       "stream": "stdout",
       "text": [
        "16 of 19: Type the word you just heard, or press 'enter' to hear it again.  =>sudden\n"
       ]
      },
      {
       "name": "stdout",
       "output_type": "stream",
       "stream": "stdout",
       "text": [
        "17 of 19: Type the word you just heard, or press 'enter' to hear it again.  =>written\n"
       ]
      },
      {
       "name": "stdout",
       "output_type": "stream",
       "stream": "stdout",
       "text": [
        "18 of 19: Type the word you just heard, or press 'enter' to hear it again.  =>necessery\n"
       ]
      },
      {
       "name": "stdout",
       "output_type": "stream",
       "stream": "stdout",
       "text": [
        "19 of 19: Type the word you just heard, or press 'enter' to hear it again.  =>appeaciate\n"
       ]
      },
      {
       "output_type": "stream",
       "stream": "stdout",
       "text": [
        "You got 11 out of 19, and these are the words you got wrong: ['exaggerate', 'recommend', 'accomodate', 'aggressive', 'sufficient', 'opportunity', 'necessary', 'appreciate']\n",
        "\n",
        "        Hey there Iris!  Welcome to spelling quiz.  \n",
        "        \n",
        "        I can ask you about: \n",
        "        Silent w\n",
        "\t\thomophones\n",
        "\t\twh\n",
        "\t\tDouble Consonant\n",
        "\t\thigh frequency\n",
        "\t\t-ly.\n",
        "        \n",
        "        Would you like to:\n",
        "            a)Practise words from a category you pick\n",
        "            b)Practise words from a category I pick\n",
        "            c)Practise words which I pick from the whole list\n",
        "            d)go for champion speller\n",
        "            \n",
        "    \n"
       ]
      },
      {
       "name": "stdout",
       "output_type": "stream",
       "stream": "stdout",
       "text": [
        "Type a, b, c, or d, or press enter to quit:a\n"
       ]
      },
      {
       "output_type": "stream",
       "stream": "stdout",
       "text": [
        "\n",
        "\n",
        "\n",
        "\n",
        "Type a number to pick a category\n",
        "\t1 for Silent w\n",
        "\t2 for homophones\n",
        "\t3 for wh\n",
        "\t4 for Double Consonant\n",
        "\t5 for high frequency\n",
        "\t6 for -ly\n"
       ]
      },
      {
       "name": "stdout",
       "output_type": "stream",
       "stream": "stdout",
       "text": [
        "Type 1 to 6 or enter to go back:5\n"
       ]
      },
      {
       "output_type": "stream",
       "stream": "stdout",
       "text": [
        "OK.  You picked 'high frequency'.\n",
        "OK Iris, type the words after you hear them.  Just press 'enter' to hear the word again.\n"
       ]
      },
      {
       "name": "stdout",
       "output_type": "stream",
       "stream": "stdout",
       "text": [
        "1 of 1: Type the word you just heard, or press 'enter' to hear it again.  =>with\n"
       ]
      },
      {
       "output_type": "stream",
       "stream": "stdout",
       "text": [
        "Nice one!  You got 1 out of 1\n",
        "\n",
        "        Hey there Iris!  Welcome to spelling quiz.  \n",
        "        \n",
        "        I can ask you about: \n",
        "        Silent w\n",
        "\t\thomophones\n",
        "\t\twh\n",
        "\t\tDouble Consonant\n",
        "\t\thigh frequency\n",
        "\t\t-ly.\n",
        "        \n",
        "        Would you like to:\n",
        "            a)Practise words from a category you pick\n",
        "            b)Practise words from a category I pick\n",
        "            c)Practise words which I pick from the whole list\n",
        "            d)go for champion speller\n",
        "            \n",
        "    \n"
       ]
      },
      {
       "name": "stdout",
       "output_type": "stream",
       "stream": "stdout",
       "text": [
        "Type a, b, c, or d, or press enter to quit:a\n"
       ]
      },
      {
       "output_type": "stream",
       "stream": "stdout",
       "text": [
        "\n",
        "\n",
        "\n",
        "\n",
        "Type a number to pick a category\n",
        "\t1 for Silent w\n",
        "\t2 for homophones\n",
        "\t3 for wh\n",
        "\t4 for Double Consonant\n",
        "\t5 for high frequency\n",
        "\t6 for -ly\n"
       ]
      },
      {
       "name": "stdout",
       "output_type": "stream",
       "stream": "stdout",
       "text": [
        "Type 1 to 6 or enter to go back:6\n"
       ]
      },
      {
       "output_type": "stream",
       "stream": "stdout",
       "text": [
        "OK.  You picked '-ly'.\n",
        "OK Iris, type the words after you hear them.  Just press 'enter' to hear the word again.\n"
       ]
      },
      {
       "name": "stdout",
       "output_type": "stream",
       "stream": "stdout",
       "text": [
        "1 of 20: Type the word you just heard, or press 'enter' to hear it again.  =>gratefully\n"
       ]
      },
      {
       "name": "stdout",
       "output_type": "stream",
       "stream": "stdout",
       "text": [
        "2 of 20: Type the word you just heard, or press 'enter' to hear it again.  =>wisely\n"
       ]
      },
      {
       "name": "stdout",
       "output_type": "stream",
       "stream": "stdout",
       "text": [
        "3 of 20: Type the word you just heard, or press 'enter' to hear it again.  =>proudly\n"
       ]
      },
      {
       "name": "stdout",
       "output_type": "stream",
       "stream": "stdout",
       "text": [
        "4 of 20: Type the word you just heard, or press 'enter' to hear it again.  =>bravely\n"
       ]
      },
      {
       "name": "stdout",
       "output_type": "stream",
       "stream": "stdout",
       "text": [
        "5 of 20: Type the word you just heard, or press 'enter' to hear it again.  =>hopfully\n"
       ]
      },
      {
       "name": "stdout",
       "output_type": "stream",
       "stream": "stdout",
       "text": [
        "6 of 20: Type the word you just heard, or press 'enter' to hear it again.  =>carefully\n"
       ]
      },
      {
       "name": "stdout",
       "output_type": "stream",
       "stream": "stdout",
       "text": [
        "7 of 20: Type the word you just heard, or press 'enter' to hear it again.  =>usuly\n"
       ]
      },
      {
       "name": "stdout",
       "output_type": "stream",
       "stream": "stdout",
       "text": [
        "8 of 20: Type the word you just heard, or press 'enter' to hear it again.  =>smiley\n"
       ]
      },
      {
       "name": "stdout",
       "output_type": "stream",
       "stream": "stdout",
       "text": [
        "9 of 20: Type the word you just heard, or press 'enter' to hear it again.  =>gently\n"
       ]
      }
     ]
    },
    {
     "cell_type": "code",
     "collapsed": false,
     "input": [],
     "language": "python",
     "metadata": {},
     "outputs": []
    },
    {
     "cell_type": "code",
     "collapsed": false,
     "input": [],
     "language": "python",
     "metadata": {},
     "outputs": []
    }
   ],
   "metadata": {}
  }
 ]
}